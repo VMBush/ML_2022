{
 "cells": [
  {
   "cell_type": "code",
   "execution_count": 80,
   "id": "b6a28e86",
   "metadata": {},
   "outputs": [],
   "source": [
    "from IPython.display import Image\n",
    "import numpy as np\n",
    "import pandas as pd\n",
    "from sklearn.model_selection import train_test_split\n",
    "from sklearn.datasets import load_iris, load_boston\n",
    "from sklearn.neighbors import KNeighborsRegressor, KNeighborsClassifier\n",
    "from sklearn.model_selection import cross_val_score, cross_validate\n",
    "from sklearn.model_selection import KFold, RepeatedKFold, LeaveOneOut, LeavePOut, ShuffleSplit, StratifiedKFold\n",
    "from sklearn.metrics import accuracy_score, balanced_accuracy_score\n",
    "from sklearn.metrics import precision_score, recall_score, f1_score, classification_report\n",
    "from sklearn.metrics import confusion_matrix\n",
    "from sklearn.metrics import mean_absolute_error, mean_squared_error, mean_squared_log_error, median_absolute_error, r2_score \n",
    "from sklearn.metrics import roc_curve, roc_auc_score\n",
    "from sklearn.model_selection import GridSearchCV, RandomizedSearchCV\n",
    "from sklearn.model_selection import learning_curve, validation_curve\n",
    "import seaborn as sns\n",
    "import matplotlib.pyplot as plt\n",
    "%matplotlib inline \n",
    "sns.set(style=\"ticks\")"
   ]
  },
  {
   "cell_type": "code",
   "execution_count": 137,
   "id": "85339cd6",
   "metadata": {},
   "outputs": [],
   "source": [
    "frt = pd.read_csv('Fruits.csv', sep = \";\")"
   ]
  },
  {
   "cell_type": "code",
   "execution_count": 138,
   "id": "eddb5deb",
   "metadata": {
    "scrolled": true
   },
   "outputs": [
    {
     "data": {
      "text/html": [
       "<div>\n",
       "<style scoped>\n",
       "    .dataframe tbody tr th:only-of-type {\n",
       "        vertical-align: middle;\n",
       "    }\n",
       "\n",
       "    .dataframe tbody tr th {\n",
       "        vertical-align: top;\n",
       "    }\n",
       "\n",
       "    .dataframe thead th {\n",
       "        text-align: right;\n",
       "    }\n",
       "</style>\n",
       "<table border=\"1\" class=\"dataframe\">\n",
       "  <thead>\n",
       "    <tr style=\"text-align: right;\">\n",
       "      <th></th>\n",
       "      <th>AREA</th>\n",
       "      <th>PERIMETER</th>\n",
       "      <th>MAJOR_AXIS</th>\n",
       "      <th>MINOR_AXIS</th>\n",
       "      <th>ECCENTRICITY</th>\n",
       "      <th>EQDIASQ</th>\n",
       "      <th>SOLIDITY</th>\n",
       "      <th>CONVEX_AREA</th>\n",
       "      <th>EXTENT</th>\n",
       "      <th>ASPECT_RATIO</th>\n",
       "      <th>...</th>\n",
       "      <th>KurtosisRR</th>\n",
       "      <th>KurtosisRG</th>\n",
       "      <th>KurtosisRB</th>\n",
       "      <th>EntropyRR</th>\n",
       "      <th>EntropyRG</th>\n",
       "      <th>EntropyRB</th>\n",
       "      <th>ALLdaub4RR</th>\n",
       "      <th>ALLdaub4RG</th>\n",
       "      <th>ALLdaub4RB</th>\n",
       "      <th>Class</th>\n",
       "    </tr>\n",
       "  </thead>\n",
       "  <tbody>\n",
       "    <tr>\n",
       "      <th>0</th>\n",
       "      <td>422163</td>\n",
       "      <td>2378.9080</td>\n",
       "      <td>837.8484</td>\n",
       "      <td>645.6693</td>\n",
       "      <td>0.6373</td>\n",
       "      <td>733.1539</td>\n",
       "      <td>0.9947</td>\n",
       "      <td>424428</td>\n",
       "      <td>0.7831</td>\n",
       "      <td>1.2976</td>\n",
       "      <td>...</td>\n",
       "      <td>3.2370</td>\n",
       "      <td>2.9574</td>\n",
       "      <td>4.2287</td>\n",
       "      <td>-5.919126e+10</td>\n",
       "      <td>-50714214400</td>\n",
       "      <td>-39922372608</td>\n",
       "      <td>58.7255</td>\n",
       "      <td>54.9554</td>\n",
       "      <td>47.8400</td>\n",
       "      <td>BERHI</td>\n",
       "    </tr>\n",
       "    <tr>\n",
       "      <th>1</th>\n",
       "      <td>338136</td>\n",
       "      <td>2085.1440</td>\n",
       "      <td>723.8198</td>\n",
       "      <td>595.2073</td>\n",
       "      <td>0.5690</td>\n",
       "      <td>656.1464</td>\n",
       "      <td>0.9974</td>\n",
       "      <td>339014</td>\n",
       "      <td>0.7795</td>\n",
       "      <td>1.2161</td>\n",
       "      <td>...</td>\n",
       "      <td>2.6228</td>\n",
       "      <td>2.6350</td>\n",
       "      <td>3.1704</td>\n",
       "      <td>-3.423307e+10</td>\n",
       "      <td>-37462601728</td>\n",
       "      <td>-31477794816</td>\n",
       "      <td>50.0259</td>\n",
       "      <td>52.8168</td>\n",
       "      <td>47.8315</td>\n",
       "      <td>BERHI</td>\n",
       "    </tr>\n",
       "    <tr>\n",
       "      <th>2</th>\n",
       "      <td>526843</td>\n",
       "      <td>2647.3940</td>\n",
       "      <td>940.7379</td>\n",
       "      <td>715.3638</td>\n",
       "      <td>0.6494</td>\n",
       "      <td>819.0222</td>\n",
       "      <td>0.9962</td>\n",
       "      <td>528876</td>\n",
       "      <td>0.7657</td>\n",
       "      <td>1.3150</td>\n",
       "      <td>...</td>\n",
       "      <td>3.7516</td>\n",
       "      <td>3.8611</td>\n",
       "      <td>4.7192</td>\n",
       "      <td>-9.394835e+10</td>\n",
       "      <td>-74738221056</td>\n",
       "      <td>-60311207936</td>\n",
       "      <td>65.4772</td>\n",
       "      <td>59.2860</td>\n",
       "      <td>51.9378</td>\n",
       "      <td>BERHI</td>\n",
       "    </tr>\n",
       "    <tr>\n",
       "      <th>3</th>\n",
       "      <td>416063</td>\n",
       "      <td>2351.2100</td>\n",
       "      <td>827.9804</td>\n",
       "      <td>645.2988</td>\n",
       "      <td>0.6266</td>\n",
       "      <td>727.8378</td>\n",
       "      <td>0.9948</td>\n",
       "      <td>418255</td>\n",
       "      <td>0.7759</td>\n",
       "      <td>1.2831</td>\n",
       "      <td>...</td>\n",
       "      <td>5.0401</td>\n",
       "      <td>8.6136</td>\n",
       "      <td>8.2618</td>\n",
       "      <td>-3.207431e+10</td>\n",
       "      <td>-32060925952</td>\n",
       "      <td>-29575010304</td>\n",
       "      <td>43.3900</td>\n",
       "      <td>44.1259</td>\n",
       "      <td>41.1882</td>\n",
       "      <td>BERHI</td>\n",
       "    </tr>\n",
       "    <tr>\n",
       "      <th>4</th>\n",
       "      <td>347562</td>\n",
       "      <td>2160.3540</td>\n",
       "      <td>763.9877</td>\n",
       "      <td>582.8359</td>\n",
       "      <td>0.6465</td>\n",
       "      <td>665.2291</td>\n",
       "      <td>0.9908</td>\n",
       "      <td>350797</td>\n",
       "      <td>0.7569</td>\n",
       "      <td>1.3108</td>\n",
       "      <td>...</td>\n",
       "      <td>2.7016</td>\n",
       "      <td>2.9761</td>\n",
       "      <td>4.4146</td>\n",
       "      <td>-3.998097e+10</td>\n",
       "      <td>-35980042240</td>\n",
       "      <td>-25593278464</td>\n",
       "      <td>52.7743</td>\n",
       "      <td>50.9080</td>\n",
       "      <td>42.6666</td>\n",
       "      <td>BERHI</td>\n",
       "    </tr>\n",
       "    <tr>\n",
       "      <th>...</th>\n",
       "      <td>...</td>\n",
       "      <td>...</td>\n",
       "      <td>...</td>\n",
       "      <td>...</td>\n",
       "      <td>...</td>\n",
       "      <td>...</td>\n",
       "      <td>...</td>\n",
       "      <td>...</td>\n",
       "      <td>...</td>\n",
       "      <td>...</td>\n",
       "      <td>...</td>\n",
       "      <td>...</td>\n",
       "      <td>...</td>\n",
       "      <td>...</td>\n",
       "      <td>...</td>\n",
       "      <td>...</td>\n",
       "      <td>...</td>\n",
       "      <td>...</td>\n",
       "      <td>...</td>\n",
       "      <td>...</td>\n",
       "      <td>...</td>\n",
       "    </tr>\n",
       "    <tr>\n",
       "      <th>893</th>\n",
       "      <td>255403</td>\n",
       "      <td>1925.3650</td>\n",
       "      <td>691.8453</td>\n",
       "      <td>477.1796</td>\n",
       "      <td>0.7241</td>\n",
       "      <td>570.2536</td>\n",
       "      <td>0.9785</td>\n",
       "      <td>261028</td>\n",
       "      <td>0.7269</td>\n",
       "      <td>1.4499</td>\n",
       "      <td>...</td>\n",
       "      <td>2.2423</td>\n",
       "      <td>2.3704</td>\n",
       "      <td>2.7202</td>\n",
       "      <td>-2.529642e+10</td>\n",
       "      <td>-19168882688</td>\n",
       "      <td>-18473392128</td>\n",
       "      <td>49.0869</td>\n",
       "      <td>43.0422</td>\n",
       "      <td>42.4153</td>\n",
       "      <td>SOGAY</td>\n",
       "    </tr>\n",
       "    <tr>\n",
       "      <th>894</th>\n",
       "      <td>365924</td>\n",
       "      <td>2664.8230</td>\n",
       "      <td>855.4633</td>\n",
       "      <td>551.5447</td>\n",
       "      <td>0.7644</td>\n",
       "      <td>682.5752</td>\n",
       "      <td>0.9466</td>\n",
       "      <td>386566</td>\n",
       "      <td>0.6695</td>\n",
       "      <td>1.5510</td>\n",
       "      <td>...</td>\n",
       "      <td>3.4109</td>\n",
       "      <td>3.5805</td>\n",
       "      <td>3.9910</td>\n",
       "      <td>-3.160522e+10</td>\n",
       "      <td>-21945366528</td>\n",
       "      <td>-19277905920</td>\n",
       "      <td>46.8086</td>\n",
       "      <td>39.1046</td>\n",
       "      <td>36.5502</td>\n",
       "      <td>SOGAY</td>\n",
       "    </tr>\n",
       "    <tr>\n",
       "      <th>895</th>\n",
       "      <td>254330</td>\n",
       "      <td>1926.7360</td>\n",
       "      <td>747.4943</td>\n",
       "      <td>435.6219</td>\n",
       "      <td>0.8126</td>\n",
       "      <td>569.0545</td>\n",
       "      <td>0.9925</td>\n",
       "      <td>256255</td>\n",
       "      <td>0.7240</td>\n",
       "      <td>1.7159</td>\n",
       "      <td>...</td>\n",
       "      <td>2.2759</td>\n",
       "      <td>2.5090</td>\n",
       "      <td>2.6951</td>\n",
       "      <td>-2.224277e+10</td>\n",
       "      <td>-19594921984</td>\n",
       "      <td>-17592152064</td>\n",
       "      <td>44.1325</td>\n",
       "      <td>40.7986</td>\n",
       "      <td>40.9769</td>\n",
       "      <td>SOGAY</td>\n",
       "    </tr>\n",
       "    <tr>\n",
       "      <th>896</th>\n",
       "      <td>238955</td>\n",
       "      <td>1906.2679</td>\n",
       "      <td>716.6485</td>\n",
       "      <td>441.8297</td>\n",
       "      <td>0.7873</td>\n",
       "      <td>551.5859</td>\n",
       "      <td>0.9604</td>\n",
       "      <td>248795</td>\n",
       "      <td>0.6954</td>\n",
       "      <td>1.6220</td>\n",
       "      <td>...</td>\n",
       "      <td>2.6769</td>\n",
       "      <td>2.6874</td>\n",
       "      <td>2.7991</td>\n",
       "      <td>-2.604860e+10</td>\n",
       "      <td>-21299822592</td>\n",
       "      <td>-19809978368</td>\n",
       "      <td>51.2267</td>\n",
       "      <td>45.7162</td>\n",
       "      <td>45.6260</td>\n",
       "      <td>SOGAY</td>\n",
       "    </tr>\n",
       "    <tr>\n",
       "      <th>897</th>\n",
       "      <td>343792</td>\n",
       "      <td>2289.2720</td>\n",
       "      <td>823.8438</td>\n",
       "      <td>534.7757</td>\n",
       "      <td>0.7607</td>\n",
       "      <td>661.6113</td>\n",
       "      <td>0.9781</td>\n",
       "      <td>351472</td>\n",
       "      <td>0.6941</td>\n",
       "      <td>1.5405</td>\n",
       "      <td>...</td>\n",
       "      <td>2.5138</td>\n",
       "      <td>3.0369</td>\n",
       "      <td>3.0865</td>\n",
       "      <td>-3.198348e+10</td>\n",
       "      <td>-20482514944</td>\n",
       "      <td>-21219354624</td>\n",
       "      <td>47.3454</td>\n",
       "      <td>38.6966</td>\n",
       "      <td>39.6738</td>\n",
       "      <td>SOGAY</td>\n",
       "    </tr>\n",
       "  </tbody>\n",
       "</table>\n",
       "<p>898 rows × 35 columns</p>\n",
       "</div>"
      ],
      "text/plain": [
       "       AREA  PERIMETER  MAJOR_AXIS  MINOR_AXIS  ECCENTRICITY   EQDIASQ  \\\n",
       "0    422163  2378.9080    837.8484    645.6693        0.6373  733.1539   \n",
       "1    338136  2085.1440    723.8198    595.2073        0.5690  656.1464   \n",
       "2    526843  2647.3940    940.7379    715.3638        0.6494  819.0222   \n",
       "3    416063  2351.2100    827.9804    645.2988        0.6266  727.8378   \n",
       "4    347562  2160.3540    763.9877    582.8359        0.6465  665.2291   \n",
       "..      ...        ...         ...         ...           ...       ...   \n",
       "893  255403  1925.3650    691.8453    477.1796        0.7241  570.2536   \n",
       "894  365924  2664.8230    855.4633    551.5447        0.7644  682.5752   \n",
       "895  254330  1926.7360    747.4943    435.6219        0.8126  569.0545   \n",
       "896  238955  1906.2679    716.6485    441.8297        0.7873  551.5859   \n",
       "897  343792  2289.2720    823.8438    534.7757        0.7607  661.6113   \n",
       "\n",
       "     SOLIDITY  CONVEX_AREA  EXTENT  ASPECT_RATIO  ...  KurtosisRR  KurtosisRG  \\\n",
       "0      0.9947       424428  0.7831        1.2976  ...      3.2370      2.9574   \n",
       "1      0.9974       339014  0.7795        1.2161  ...      2.6228      2.6350   \n",
       "2      0.9962       528876  0.7657        1.3150  ...      3.7516      3.8611   \n",
       "3      0.9948       418255  0.7759        1.2831  ...      5.0401      8.6136   \n",
       "4      0.9908       350797  0.7569        1.3108  ...      2.7016      2.9761   \n",
       "..        ...          ...     ...           ...  ...         ...         ...   \n",
       "893    0.9785       261028  0.7269        1.4499  ...      2.2423      2.3704   \n",
       "894    0.9466       386566  0.6695        1.5510  ...      3.4109      3.5805   \n",
       "895    0.9925       256255  0.7240        1.7159  ...      2.2759      2.5090   \n",
       "896    0.9604       248795  0.6954        1.6220  ...      2.6769      2.6874   \n",
       "897    0.9781       351472  0.6941        1.5405  ...      2.5138      3.0369   \n",
       "\n",
       "     KurtosisRB     EntropyRR    EntropyRG    EntropyRB  ALLdaub4RR  \\\n",
       "0        4.2287 -5.919126e+10 -50714214400 -39922372608     58.7255   \n",
       "1        3.1704 -3.423307e+10 -37462601728 -31477794816     50.0259   \n",
       "2        4.7192 -9.394835e+10 -74738221056 -60311207936     65.4772   \n",
       "3        8.2618 -3.207431e+10 -32060925952 -29575010304     43.3900   \n",
       "4        4.4146 -3.998097e+10 -35980042240 -25593278464     52.7743   \n",
       "..          ...           ...          ...          ...         ...   \n",
       "893      2.7202 -2.529642e+10 -19168882688 -18473392128     49.0869   \n",
       "894      3.9910 -3.160522e+10 -21945366528 -19277905920     46.8086   \n",
       "895      2.6951 -2.224277e+10 -19594921984 -17592152064     44.1325   \n",
       "896      2.7991 -2.604860e+10 -21299822592 -19809978368     51.2267   \n",
       "897      3.0865 -3.198348e+10 -20482514944 -21219354624     47.3454   \n",
       "\n",
       "     ALLdaub4RG  ALLdaub4RB  Class  \n",
       "0       54.9554     47.8400  BERHI  \n",
       "1       52.8168     47.8315  BERHI  \n",
       "2       59.2860     51.9378  BERHI  \n",
       "3       44.1259     41.1882  BERHI  \n",
       "4       50.9080     42.6666  BERHI  \n",
       "..          ...         ...    ...  \n",
       "893     43.0422     42.4153  SOGAY  \n",
       "894     39.1046     36.5502  SOGAY  \n",
       "895     40.7986     40.9769  SOGAY  \n",
       "896     45.7162     45.6260  SOGAY  \n",
       "897     38.6966     39.6738  SOGAY  \n",
       "\n",
       "[898 rows x 35 columns]"
      ]
     },
     "execution_count": 138,
     "metadata": {},
     "output_type": "execute_result"
    }
   ],
   "source": [
    "frt"
   ]
  },
  {
   "cell_type": "code",
   "execution_count": 170,
   "id": "63b58a34",
   "metadata": {},
   "outputs": [],
   "source": [
    "data = frt.drop(['Class'], axis = 1)\n",
    "target = frt['Class']"
   ]
  },
  {
   "cell_type": "code",
   "execution_count": 147,
   "id": "3ce04cc2",
   "metadata": {},
   "outputs": [],
   "source": [
    "frt_X_train, frt_X_test, frt_Y_train, frt_Y_test = train_test_split(\n",
    "    data, target, test_size = 0.5, random_state = 1)"
   ]
  },
  {
   "cell_type": "code",
   "execution_count": 169,
   "id": "f0e3c970",
   "metadata": {},
   "outputs": [
    {
     "data": {
      "text/plain": [
       "(0.7060133630289532, 0.643652561247216)"
      ]
     },
     "execution_count": 169,
     "metadata": {},
     "output_type": "execute_result"
    }
   ],
   "source": [
    "first_classification = KNeighborsClassifier(n_neighbors=30)\n",
    "first_classification.fit(frt_X_train, frt_Y_train)\n",
    "target_first_tr = first_classification.predict(frt_X_train)\n",
    "target_first_te = first_classification.predict(frt_X_test)\n",
    "accuracy_score(frt_Y_train, target_first_tr), accuracy_score(frt_Y_test, target_first_te)"
   ]
  },
  {
   "cell_type": "code",
   "execution_count": 174,
   "id": "eab47442",
   "metadata": {},
   "outputs": [
    {
     "data": {
      "text/plain": [
       "0.6780774032459426"
      ]
     },
     "execution_count": 174,
     "metadata": {},
     "output_type": "execute_result"
    }
   ],
   "source": [
    "scores = cross_val_score(KNeighborsClassifier(n_neighbors = 30), data, target, cv = StratifiedKFold(n_splits = 10))\n",
    "np.mean(scores)"
   ]
  },
  {
   "cell_type": "code",
   "execution_count": 176,
   "id": "a8b8ffaa",
   "metadata": {},
   "outputs": [
    {
     "data": {
      "text/plain": [
       "[{'n_neighbors': array([ 1,  3,  5,  7,  9, 11, 13, 15, 17, 19, 21, 23, 25, 27, 29, 31, 33,\n",
       "         35, 37, 39, 41, 43, 45, 47, 49, 51, 53, 55, 57, 59, 61, 63, 65, 67,\n",
       "         69, 71, 73, 75, 77, 79, 81, 83, 85, 87, 89, 91, 93, 95, 97, 99])}]"
      ]
     },
     "execution_count": 176,
     "metadata": {},
     "output_type": "execute_result"
    }
   ],
   "source": [
    "n_range = np.array(range(1,100,2))\n",
    "tuned_parameters = [{'n_neighbors': n_range}]\n",
    "tuned_parameters"
   ]
  },
  {
   "cell_type": "code",
   "execution_count": 187,
   "id": "918105df",
   "metadata": {},
   "outputs": [
    {
     "name": "stdout",
     "output_type": "stream",
     "text": [
      "Wall time: 5.93 s\n"
     ]
    },
    {
     "data": {
      "text/plain": [
       "GridSearchCV(cv=StratifiedKFold(n_splits=10, random_state=None, shuffle=False),\n",
       "             estimator=KNeighborsClassifier(),\n",
       "             param_grid=[{'n_neighbors': array([ 1,  3,  5,  7,  9, 11, 13, 15, 17, 19, 21, 23, 25, 27, 29, 31, 33,\n",
       "       35, 37, 39, 41, 43, 45, 47, 49, 51, 53, 55, 57, 59, 61, 63, 65, 67,\n",
       "       69, 71, 73, 75, 77, 79, 81, 83, 85, 87, 89, 91, 93, 95, 97, 99])}],\n",
       "             scoring='accuracy')"
      ]
     },
     "execution_count": 187,
     "metadata": {},
     "output_type": "execute_result"
    }
   ],
   "source": [
    "%%time\n",
    "clf_gs_2 = GridSearchCV(KNeighborsClassifier(), tuned_parameters, cv=StratifiedKFold(n_splits = 10), scoring='accuracy')\n",
    "clf_gs_2.fit(data, target)"
   ]
  },
  {
   "cell_type": "code",
   "execution_count": 188,
   "id": "9d7d1531",
   "metadata": {},
   "outputs": [
    {
     "data": {
      "text/plain": [
       "{'n_neighbors': 17}"
      ]
     },
     "execution_count": 188,
     "metadata": {},
     "output_type": "execute_result"
    }
   ],
   "source": [
    "clf_gs_2.best_params_"
   ]
  },
  {
   "cell_type": "code",
   "execution_count": 189,
   "id": "f6600421",
   "metadata": {
    "scrolled": true
   },
   "outputs": [
    {
     "name": "stdout",
     "output_type": "stream",
     "text": [
      "Wall time: 10.6 s\n"
     ]
    },
    {
     "data": {
      "text/plain": [
       "GridSearchCV(cv=ShuffleSplit(n_splits=9, random_state=None, test_size=0.25, train_size=None),\n",
       "             estimator=KNeighborsClassifier(),\n",
       "             param_grid=[{'n_neighbors': array([ 1,  3,  5,  7,  9, 11, 13, 15, 17, 19, 21, 23, 25, 27, 29, 31, 33,\n",
       "       35, 37, 39, 41, 43, 45, 47, 49, 51, 53, 55, 57, 59, 61, 63, 65, 67,\n",
       "       69, 71, 73, 75, 77, 79, 81, 83, 85, 87, 89, 91, 93, 95, 97, 99])}],\n",
       "             scoring='accuracy')"
      ]
     },
     "execution_count": 189,
     "metadata": {},
     "output_type": "execute_result"
    }
   ],
   "source": [
    "%%time\n",
    "clf_gs_3 = GridSearchCV(KNeighborsClassifier(), tuned_parameters, cv=ShuffleSplit(n_splits=9, test_size=0.25), scoring='accuracy')\n",
    "clf_gs_3.fit(data, target)"
   ]
  },
  {
   "cell_type": "code",
   "execution_count": 190,
   "id": "e73e26a0",
   "metadata": {},
   "outputs": [
    {
     "data": {
      "text/plain": [
       "{'n_neighbors': 17}"
      ]
     },
     "execution_count": 190,
     "metadata": {},
     "output_type": "execute_result"
    }
   ],
   "source": [
    "clf_gs_3.best_params_"
   ]
  },
  {
   "cell_type": "code",
   "execution_count": 183,
   "id": "170e5503",
   "metadata": {},
   "outputs": [
    {
     "data": {
      "text/plain": [
       "GridSearchCV(cv=LeaveOneOut(), estimator=KNeighborsClassifier(),\n",
       "             param_grid=[{'n_neighbors': array([ 1,  3,  5,  7,  9, 11, 13, 15, 17, 19, 21, 23, 25, 27, 29, 31, 33,\n",
       "       35, 37, 39, 41, 43, 45, 47, 49, 51, 53, 55, 57, 59, 61, 63, 65, 67,\n",
       "       69, 71, 73, 75, 77, 79, 81, 83, 85, 87, 89, 91, 93, 95, 97, 99])}],\n",
       "             scoring='accuracy')"
      ]
     },
     "execution_count": 183,
     "metadata": {},
     "output_type": "execute_result"
    }
   ],
   "source": [
    "clf_gs_1 = GridSearchCV(KNeighborsClassifier(), tuned_parameters, cv=LeaveOneOut(), scoring='accuracy')\n",
    "clf_gs_1.fit(data, target)"
   ]
  },
  {
   "cell_type": "code",
   "execution_count": 186,
   "id": "730498bc",
   "metadata": {},
   "outputs": [
    {
     "data": {
      "text/plain": [
       "{'n_neighbors': 17}"
      ]
     },
     "execution_count": 186,
     "metadata": {},
     "output_type": "execute_result"
    }
   ],
   "source": [
    "clf_gs_1.best_params_"
   ]
  },
  {
   "cell_type": "code",
   "execution_count": 191,
   "id": "dbfccdb3",
   "metadata": {},
   "outputs": [
    {
     "data": {
      "text/plain": [
       "[<matplotlib.lines.Line2D at 0x2aa90ae4a60>]"
      ]
     },
     "execution_count": 191,
     "metadata": {},
     "output_type": "execute_result"
    },
    {
     "data": {
      "image/png": "[encoded data removed]",
      "text/plain": [
       "<Figure size 432x288 with 1 Axes>"
      ]
     },
     "metadata": {},
     "output_type": "display_data"
    }
   ],
   "source": [
    "plt.plot(n_range, clf_gs_1.cv_results_['mean_test_score'])"
   ]
  },
  {
   "cell_type": "code",
   "execution_count": 193,
   "id": "d838de09",
   "metadata": {},
   "outputs": [
    {
     "data": {
      "text/plain": [
       "(0.7260579064587973, 0.6636971046770601)"
      ]
     },
     "execution_count": 193,
     "metadata": {},
     "output_type": "execute_result"
    }
   ],
   "source": [
    "clf_gs_1.best_estimator_.fit(frt_X_train, frt_Y_train)\n",
    "target2_tr = clf_gs_1.best_estimator_.predict(frt_X_train)\n",
    "target2_te = clf_gs_1.best_estimator_.predict(frt_X_test)\n",
    "\n",
    "accuracy_score(frt_Y_train, target2_tr), accuracy_score(frt_Y_test, target2_te)"
   ]
  },
  {
   "cell_type": "markdown",
   "id": "e8caa0cf",
   "metadata": {},
   "source": [
    " "
   ]
  },
  {
   "cell_type": "code",
   "execution_count": 197,
   "id": "cc632510",
   "metadata": {},
   "outputs": [],
   "source": [
    "def plot_learning_curve(estimator, title, X, y, ylim=None, cv=None,\n",
    "                        n_jobs=None, train_sizes=np.linspace(.1, 1.0, 5), scoring='accuracy'):\n",
    "    \"\"\"\n",
    "    Generate a simple plot of the test and training learning curve.\n",
    "\n",
    "    Parameters\n",
    "    ----------\n",
    "    estimator : object type that implements the \"fit\" and \"predict\" methods\n",
    "        An object of that type which is cloned for each validation.\n",
    "\n",
    "    title : string\n",
    "        Title for the chart.\n",
    "\n",
    "    X : array-like, shape (n_samples, n_features)\n",
    "        Training vector, where n_samples is the number of samples and\n",
    "        n_features is the number of features.\n",
    "\n",
    "    y : array-like, shape (n_samples) or (n_samples, n_features), optional\n",
    "        Target relative to X for classification or regression;\n",
    "        None for unsupervised learning.\n",
    "\n",
    "    ylim : tuple, shape (ymin, ymax), optional\n",
    "        Defines minimum and maximum yvalues plotted.\n",
    "\n",
    "    cv : int, cross-validation generator or an iterable, optional\n",
    "        Determines the cross-validation splitting strategy.\n",
    "        Possible inputs for cv are:\n",
    "          - None, to use the default 3-fold cross-validation,\n",
    "          - integer, to specify the number of folds.\n",
    "          - :term:`CV splitter`,\n",
    "          - An iterable yielding (train, test) splits as arrays of indices.\n",
    "\n",
    "        For integer/None inputs, if ``y`` is binary or multiclass,\n",
    "        :class:`StratifiedKFold` used. If the estimator is not a classifier\n",
    "        or if ``y`` is neither binary nor multiclass, :class:`KFold` is used.\n",
    "\n",
    "        Refer :ref:`User Guide <cross_validation>` for the various\n",
    "        cross-validators that can be used here.\n",
    "\n",
    "    n_jobs : int or None, optional (default=None)\n",
    "        Number of jobs to run in parallel.\n",
    "        ``None`` means 1 unless in a :obj:`joblib.parallel_backend` context.\n",
    "        ``-1`` means using all processors. See :term:`Glossary <n_jobs>`\n",
    "        for more details.\n",
    "\n",
    "    train_sizes : array-like, shape (n_ticks,), dtype float or int\n",
    "        Relative or absolute numbers of training examples that will be used to\n",
    "        generate the learning curve. If the dtype is float, it is regarded as a\n",
    "        fraction of the maximum size of the training set (that is determined\n",
    "        by the selected validation method), i.e. it has to be within (0, 1].\n",
    "        Otherwise it is interpreted as absolute sizes of the training sets.\n",
    "        Note that for classification the number of samples usually have to\n",
    "        be big enough to contain at least one sample from each class.\n",
    "        (default: np.linspace(0.1, 1.0, 5))\n",
    "    \"\"\"\n",
    "    plt.figure()\n",
    "    plt.title(title)\n",
    "    if ylim is not None:\n",
    "        plt.ylim(*ylim)\n",
    "    plt.xlabel(\"Training examples\")\n",
    "    plt.ylabel(scoring)\n",
    "    train_sizes, train_scores, test_scores = learning_curve(\n",
    "        estimator, X, y, cv=cv, scoring=scoring, n_jobs=n_jobs, train_sizes=train_sizes)\n",
    "    train_scores_mean = np.mean(train_scores, axis=1)\n",
    "    train_scores_std = np.std(train_scores, axis=1)\n",
    "    test_scores_mean = np.mean(test_scores, axis=1)\n",
    "    test_scores_std = np.std(test_scores, axis=1)\n",
    "    plt.grid()\n",
    "\n",
    "    plt.fill_between(train_sizes, train_scores_mean - train_scores_std,\n",
    "                     train_scores_mean + train_scores_std, alpha=0.3,\n",
    "                     color=\"r\")\n",
    "    plt.fill_between(train_sizes, test_scores_mean - test_scores_std,\n",
    "                     test_scores_mean + test_scores_std, alpha=0.1, color=\"g\")\n",
    "    plt.plot(train_sizes, train_scores_mean, 'o-', color=\"r\",\n",
    "             label=\"Training score\")\n",
    "    plt.plot(train_sizes, test_scores_mean, 'o-', color=\"g\",\n",
    "             label=\"Cross-validation score\")\n",
    "\n",
    "    plt.legend(loc=\"best\")\n",
    "    return plt\n"
   ]
  },
  {
   "cell_type": "code",
   "execution_count": 198,
   "id": "826a2c8a",
   "metadata": {},
   "outputs": [
    {
     "data": {
      "text/plain": [
       "<module 'matplotlib.pyplot' from 'D:\\\\SOFT\\\\Anaconda\\\\lib\\\\site-packages\\\\matplotlib\\\\pyplot.py'>"
      ]
     },
     "execution_count": 198,
     "metadata": {},
     "output_type": "execute_result"
    },
    {
     "data": {
      "image/png": "[encoded data removed]",
      "text/plain": [
       "<Figure size 432x288 with 1 Axes>"
      ]
     },
     "metadata": {},
     "output_type": "display_data"
    }
   ],
   "source": [
    "plot_learning_curve(clf_gs_1.best_estimator_, 'n_neighbors=17', \n",
    "                    data, target, cv=10, train_sizes=np.linspace(.2, 1.0, 5))"
   ]
  },
  {
   "cell_type": "markdown",
   "id": "24dec24b",
   "metadata": {},
   "source": [
    " "
   ]
  },
  {
   "cell_type": "code",
   "execution_count": 199,
   "id": "9a599632",
   "metadata": {},
   "outputs": [],
   "source": [
    "def plot_validation_curve(estimator, title, X, y, \n",
    "                          param_name, param_range, cv, \n",
    "                          scoring='accuracy'):\n",
    "                                                   \n",
    "    train_scores, test_scores = validation_curve(\n",
    "        estimator, X, y, param_name=param_name, param_range=param_range,\n",
    "        cv=cv, scoring=scoring, n_jobs=1)\n",
    "    train_scores_mean = np.mean(train_scores, axis=1)\n",
    "    train_scores_std = np.std(train_scores, axis=1)\n",
    "    test_scores_mean = np.mean(test_scores, axis=1)\n",
    "    test_scores_std = np.std(test_scores, axis=1)\n",
    "\n",
    "    plt.title(title)\n",
    "    plt.xlabel(param_name)\n",
    "    plt.ylabel(str(scoring))\n",
    "    plt.ylim(0.0, 1.1)\n",
    "    lw = 2\n",
    "    plt.plot(param_range, train_scores_mean, label=\"Training score\",\n",
    "                 color=\"darkorange\", lw=lw)\n",
    "    plt.fill_between(param_range, train_scores_mean - train_scores_std,\n",
    "                     train_scores_mean + train_scores_std, alpha=0.4,\n",
    "                     color=\"darkorange\", lw=lw)\n",
    "    plt.plot(param_range, test_scores_mean, label=\"Cross-validation score\",\n",
    "                 color=\"navy\", lw=lw)\n",
    "    plt.fill_between(param_range, test_scores_mean - test_scores_std,\n",
    "                     test_scores_mean + test_scores_std, alpha=0.2,\n",
    "                     color=\"navy\", lw=lw)\n",
    "    plt.legend(loc=\"best\")\n",
    "    return plt"
   ]
  },
  {
   "cell_type": "code",
   "execution_count": 200,
   "id": "6ddc729c",
   "metadata": {
    "scrolled": true
   },
   "outputs": [
    {
     "data": {
      "text/plain": [
       "<module 'matplotlib.pyplot' from 'D:\\\\SOFT\\\\Anaconda\\\\lib\\\\site-packages\\\\matplotlib\\\\pyplot.py'>"
      ]
     },
     "execution_count": 200,
     "metadata": {},
     "output_type": "execute_result"
    },
    {
     "data": {
      "image/png": "[encoded data removed]",
      "text/plain": [
       "<Figure size 432x288 with 1 Axes>"
      ]
     },
     "metadata": {},
     "output_type": "display_data"
    }
   ],
   "source": [
    "plot_validation_curve(clf_gs.best_estimator_, 'knn', \n",
    "                      data, target, \n",
    "                      param_name='n_neighbors', param_range=n_range, \n",
    "                      cv=20, scoring=\"accuracy\")"
   ]
  }
 ],
 "metadata": {
  "kernelspec": {
   "display_name": "Python 3 (ipykernel)",
   "language": "python",
   "name": "python3"
  },
  "language_info": {
   "codemirror_mode": {
    "name": "ipython",
    "version": 3
   },
   "file_extension": ".py",
   "mimetype": "text/x-python",
   "name": "python",
   "nbconvert_exporter": "python",
   "pygments_lexer": "ipython3",
   "version": "3.9.7"
  }
 },
 "nbformat": 4,
 "nbformat_minor": 5
}
